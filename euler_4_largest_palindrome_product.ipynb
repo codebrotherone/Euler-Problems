{
 "cells": [
  {
   "cell_type": "markdown",
   "metadata": {},
   "source": [
    "# Initial method\n"
   ]
  },
  {
   "cell_type": "code",
   "execution_count": 4,
   "metadata": {},
   "outputs": [
    {
     "data": {
      "text/plain": [
       "906609"
      ]
     },
     "execution_count": 4,
     "metadata": {},
     "output_type": "execute_result"
    }
   ],
   "source": [
    "# A palindromic number reads the same both ways. \n",
    "# The largest palindrome made from the product of two 2-digit numbers is 9009 = 91 × 99.\n",
    "# Find the largest palindrome made from the product of two 3-digit numbers.\n",
    "\n",
    "def is_palindrome(x):\n",
    "    x=str(x)\n",
    "    i = len(x)//2\n",
    "    if str(x)[:i] == str(x)[i:][::-1]:  # \n",
    "        return True\n",
    "    else:\n",
    "        return False\n",
    "    \n",
    "\n",
    "def largest_3dig_palindrome():\n",
    "    max_val = 0\n",
    "    for i in range(999, 100, -1):\n",
    "        for j in range(999, 500, -1):\n",
    "            prod=i*j\n",
    "            if is_palindrome(prod):\n",
    "                if prod>max_val:\n",
    "                    max_val = prod\n",
    "                    \n",
    "    return max_val\n",
    "\n",
    "largest_3dig_palindrome() "
   ]
  }
 ],
 "metadata": {
  "kernelspec": {
   "display_name": "py38",
   "language": "python",
   "name": "py38"
  },
  "language_info": {
   "codemirror_mode": {
    "name": "ipython",
    "version": 3
   },
   "file_extension": ".py",
   "mimetype": "text/x-python",
   "name": "python",
   "nbconvert_exporter": "python",
   "pygments_lexer": "ipython3",
   "version": "3.8.0"
  }
 },
 "nbformat": 4,
 "nbformat_minor": 2
}
