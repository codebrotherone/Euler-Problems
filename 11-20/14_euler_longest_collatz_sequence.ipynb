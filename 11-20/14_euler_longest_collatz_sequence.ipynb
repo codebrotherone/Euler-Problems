{
 "cells": [
  {
   "cell_type": "markdown",
   "metadata": {},
   "source": [
    "<img src=\"images/problem_14.png\"></img>"
   ]
  },
  {
   "cell_type": "code",
   "execution_count": 67,
   "metadata": {},
   "outputs": [
    {
     "data": {
      "text/plain": [
       "(524, 837799)"
      ]
     },
     "execution_count": 67,
     "metadata": {},
     "output_type": "execute_result"
    }
   ],
   "source": [
    "def _count_collatz_chain(n, c=0):\n",
    "    if n%2==0:  # even\n",
    "        n = n/2\n",
    "    else:  # odd\n",
    "        n = 3*n + 1\n",
    "    c+=1\n",
    "    if n!=1:\n",
    "            return _count_collatz_chain(n, c) \n",
    "    else: \n",
    "        return c\n",
    "        \n",
    "def collatz_sequence(max_value=1e6):\n",
    "    \"\"\"\n",
    "    collatz sequence\n",
    "    if n is even reduce by n=n/2\n",
    "    if n is odd reduce by 3n+1\n",
    "    \"\"\"\n",
    "    # to find max values    \n",
    "    return sorted([(_count_collatz_chain(i), i) for i in range(13, int(max_value))], \n",
    "                 key=lambda x: x[0], reverse=True)\n",
    "\n",
    "#     max_count = 10\n",
    "#     starting_num=None\n",
    "#     for i in range(13, int(max_value)):\n",
    "#         count_ = _count_collatz_chain(i)\n",
    "#         if count_ > max_count:\n",
    "#             max_count = count_\n",
    "#             starting_num = i\n",
    "#     return starting_num\n",
    "            \n",
    "s = collatz_sequence()\n",
    "s[0]"
   ]
  },
  {
   "cell_type": "code",
   "execution_count": 63,
   "metadata": {},
   "outputs": [
    {
     "name": "stdout",
     "output_type": "stream",
     "text": [
      "13\n",
      "14\n",
      "18\n",
      "25\n",
      "27\n",
      "54\n",
      "73\n",
      "97\n",
      "129\n",
      "171\n",
      "231\n",
      "313\n",
      "327\n",
      "649\n",
      "703\n",
      "871\n",
      "1161\n",
      "2223\n",
      "2463\n",
      "2919\n",
      "3711\n",
      "6171\n",
      "10971\n",
      "13255\n",
      "17647\n",
      "23529\n",
      "26623\n",
      "34239\n",
      "35655\n",
      "52527\n",
      "77031\n",
      "106239\n",
      "142587\n",
      "156159\n",
      "216367\n",
      "230631\n",
      "410011\n",
      "511935\n",
      "626331\n",
      "837799\n"
     ]
    }
   ],
   "source": [
    "# look at progression\n",
    "max_count=0\n",
    "for i in range(13, int(1e6)):\n",
    "    s = _count_collatz_chain(i)\n",
    "    if s > max_count:\n",
    "        max_count=s\n",
    "        print(i)"
   ]
  },
  {
   "cell_type": "code",
   "execution_count": null,
   "metadata": {},
   "outputs": [],
   "source": []
  }
 ],
 "metadata": {
  "kernelspec": {
   "display_name": "py38",
   "language": "python",
   "name": "py38"
  },
  "language_info": {
   "codemirror_mode": {
    "name": "ipython",
    "version": 3
   },
   "file_extension": ".py",
   "mimetype": "text/x-python",
   "name": "python",
   "nbconvert_exporter": "python",
   "pygments_lexer": "ipython3",
   "version": "3.8.0"
  }
 },
 "nbformat": 4,
 "nbformat_minor": 4
}
