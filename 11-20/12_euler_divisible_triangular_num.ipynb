{
 "cells": [
  {
   "cell_type": "markdown",
   "metadata": {},
   "source": [
    "<img src=\"images/problem_12.png\"></img>"
   ]
  },
  {
   "cell_type": "code",
   "execution_count": 24,
   "metadata": {},
   "outputs": [
    {
     "name": "stdout",
     "output_type": "stream",
     "text": [
      "The 12376st triangular number had over 500 divisors at a total sum of 76576500\n"
     ]
    }
   ],
   "source": [
    "# find a running count of the ith triangle number\n",
    "import math\n",
    "\n",
    "def count_divisors(n): \n",
    "    cnt = 0\n",
    "    # ab = N -> a and b are inverse\n",
    "    for i in range(1, int(math.sqrt(n)) + 1): \n",
    "        if (n % i == 0) :\n",
    "            # count 1 if equal\n",
    "            if (n / i == i) : \n",
    "                cnt = cnt + 1\n",
    "            # count both since only going up to sqrt(n)\n",
    "            else :\n",
    "                cnt = cnt + 2\n",
    "                  \n",
    "    return cnt \n",
    "\n",
    "def divisible_triangular_num(divisor_min=500):\n",
    "    total_divisor_count=0\n",
    "    total_divisors = []\n",
    "    i=10\n",
    "    looking=True\n",
    "    while looking:\n",
    "        n = int(i*(i+1)/2)  # employ gaussian trick\n",
    "        if count_divisors(n) >= divisor_min:\n",
    "            looking=False\n",
    "        i+=1\n",
    "    return n, i\n",
    "\n",
    "val, nth_index = divisible_triangular_num()\n",
    "\n",
    "print(f\"The {nth_index}st triangular number had over 500 divisors at a total sum of {val}\")\n",
    "    "
   ]
  },
  {
   "cell_type": "code",
   "execution_count": null,
   "metadata": {},
   "outputs": [],
   "source": []
  }
 ],
 "metadata": {
  "kernelspec": {
   "display_name": "py38",
   "language": "python",
   "name": "py38"
  },
  "language_info": {
   "codemirror_mode": {
    "name": "ipython",
    "version": 3
   },
   "file_extension": ".py",
   "mimetype": "text/x-python",
   "name": "python",
   "nbconvert_exporter": "python",
   "pygments_lexer": "ipython3",
   "version": "3.8.0"
  }
 },
 "nbformat": 4,
 "nbformat_minor": 4
}
