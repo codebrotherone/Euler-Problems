{
 "cells": [
  {
   "cell_type": "markdown",
   "metadata": {},
   "source": [
    "# Largest prime factor. \n",
    "\n",
    "Given a value n, grab the largest prime factor of that number.\n",
    "\n",
    "This is a very important concept (think RSA encryption standards) and there are a bunch of ways to tackle this issue.\n",
    "\n",
    "So far this is the one I've had the most fun on, haha. :) \n",
    "\n",
    "<a href= 'https://mathworld.wolfram.com/RSANumber.html'>Excerpt from Wolfram Alpha on RSA / Prime Factorization</a>\n",
    "    \n",
    "    Despite widespread belief at the time that the message encoded by RSA-129 would take millions of years to break, it was factored in 1994 using a distributed computation which harnessed networked computers spread around the globe performing a multiple polynomial quadratic sieve (Leutwyler 1994). \n",
    "    \n",
    "    \n"
   ]
  },
  {
   "cell_type": "markdown",
   "metadata": {},
   "source": [
    "# Diving in\n",
    "\n",
    "Researching this it seems I have 3 choices:\n",
    "\n",
    "1. Fermat's Factorisation\n",
    "    \n",
    "        1. This guy is slow, and will only take odd integers to factor. \n",
    "        2. There is a better version of this that is called Fermat's with trial division, that is superior, but not so good with large numbers. \n",
    "    \n",
    "2. Quadratic Sieve \n",
    "\n",
    "        1. Choose a smoothness bound B. The number π(B), denoting the number of prime numbers less than B, will control both the length of the vectors and the number of vectors needed.\n",
    "        2. Use sieving to locate π(B) + 1 numbers ai such that bi=(ai2 mod n) is B-smooth.\n",
    "        3. Factor the bi and generate exponent vectors mod 2 for each one.\n",
    "        4. Use linear algebra to find a subset of these vectors which add to the zero vector. Multiply the corresponding ai together and give the result mod n the name a; similarly, multiply the bi together which yields a B-smooth square b2.\n",
    "        5. We are now left with the equality a2=b2 mod n from which we get two square roots of (a2 mod n), one by taking the square root in the integers of b2 namely b, and the other the a computed in step 4.\n",
    "        6. We now have the desired identity: {\\displaystyle (a+b)(a-b)\\equiv 0{\\pmod {n}}}{\\displaystyle (a+b)(a-b)\\equiv 0{\\pmod {n}}}. Compute the GCD of n with the difference (or sum) of a and b. This produces a factor, although it may be a trivial factor (n or 1). If the factor is trivial, try again with a different linear dependency or different a.\n",
    "    \n",
    "3. Pollard's Rho Algorithm"
   ]
  },
  {
   "cell_type": "markdown",
   "metadata": {},
   "source": [
    "## Took me a while to figure it out, so shout out to <a href='https://stackoverflow.com/questions/23287/algorithm-to-find-largest-prime-factor-of-a-number'> Tryptich </a> in the following SO post for me to get an understanding of how to tackle this problem.\n",
    "\n",
    "\n",
    "    def prime_factors(n):\n",
    "        # Returns all the prime factors of a positive integer\n",
    "        factors = []\n",
    "        d = 2\n",
    "        while n > 1:\n",
    "            print(f\"{n} and {d}\")\n",
    "            while n % d == 0:\n",
    "                print(f\"--{n}/{d}\")\n",
    "                factors.append(d)\n",
    "                # here we divide n by d to get the remaining factor \n",
    "                n = n/d\n",
    "            #increment d for next iteration of loop\n",
    "            d = d + 1\n",
    "            # don't need to go up to all numbers,\n",
    "            # because if n>1 and d^2 greater than n\n",
    "            # we found the largest prime factor\n",
    "            if d*d > n:\n",
    "                if n > 1: factors.append(n)\n",
    "                break\n",
    "        return factors\n"
   ]
  },
  {
   "cell_type": "markdown",
   "metadata": {},
   "source": [
    "# Fermat's Decomposition \n",
    "\n",
    "\n",
    "Let N represent an ODD integer, neither a or b is equal to 1. \n",
    "        \n",
    "            N = a^2 - b^2\n",
    "            a^2 - N = b^2 \n",
    "        \n",
    "        if b^2 is a perfect square then you can stop because you found a proper \n",
    "        factorizaation of N, an odd integer. Fermat takes an approach that optimizes\n",
    "        when these prime numbers are deeply ingrained, or close together. Because \n",
    "        a and b can be reduced to the difference of two squares. \n",
    "    \n",
    "    Algorithm steps:\n",
    "        Start with value a that is the rounded value just bigger than the sqrt(n). \n",
    "        Then solve for b^2. \n",
    "        If b^2 is a square you found the answer, otherwise increment the a value by 1\n",
    "        \n",
    "        \n",
    "        For example looking at \n",
    "            N = a^2-b^2 which becomes b^2 - N = a^2\n",
    "        And if N = (c-d)(c+d) because of least squares \n",
    "            Then whenever b is small, the values are close together.\n",
    "            We start with small b values, because we are arbitrarily \n",
    "            choosing a number that is twice the square root of N\n",
    "    \n",
    "    Based on least squares difference of two numbers:\n",
    "    \n",
    "    Let N = (a-b)(a+b) = a^2 - b^2,\n",
    "    \n",
    "        (a+b)^2 = a^2 + 2ab - b^2\n",
    "        (a-b)^2 = a^2 - 2ab + b^2\n",
    "    \n",
    "    Then subtract LHS,\n",
    "        \n",
    "        (a+b)^2 - (a-b)^2 = 4ab which reduces to\n",
    "        \n",
    "        [(a+b)/2]^2 - [(a-b)/2]^2 = ab\n",
    "        \n",
    "    Well we know the pattern of a^2 - b^2 = (a-b)(a+b), so plug and chug\n",
    "        \n",
    "        [(a+b)/2 - (a-b)/2] x [(a+b)/2 + (a-b)/2]  = ab\n",
    "                b           x          a           = ab\n",
    "        \n",
    "        \n",
    "    So (a+b)^2 - (a-b)^2 = ab = N\n",
    "    \n",
    "    While the second LHS square\n",
    "        [(a-b)/2]^2 represents half the difference squared. "
   ]
  },
  {
   "cell_type": "markdown",
   "metadata": {},
   "source": [
    "#### Let's implement Fermat's Approach"
   ]
  },
  {
   "cell_type": "code",
   "execution_count": 1,
   "metadata": {},
   "outputs": [
    {
     "name": "stdout",
     "output_type": "stream",
     "text": [
      "Fermat's approach resulted in these factors: (486847.0, 1234169.0)\n"
     ]
    }
   ],
   "source": [
    "import math\n",
    "\n",
    "def fermats_approach(n):\n",
    "    \"\"\"Function to run fermat's decomposition on an odd number.\"\"\"\n",
    "    \n",
    "    a = math.ceil(math.sqrt(n)) \n",
    "    b_2 = a**2 - n\n",
    "    is_square_root = lambda x: 1 if int(math.sqrt(x)+.5)**2==x else 0  #lamda func   \n",
    "    while not is_square_root(b_2):\n",
    "        a+=1\n",
    "        b_2 = a**2 - n\n",
    "    \n",
    "    return a-math.sqrt(b_2), a+math.sqrt(b_2)\n",
    "\n",
    "print(f\"Fermat's approach resulted in these factors: {fermats_approach(600851475143)}\")"
   ]
  },
  {
   "cell_type": "code",
   "execution_count": 117,
   "metadata": {},
   "outputs": [
    {
     "name": "stdout",
     "output_type": "stream",
     "text": [
      "61.3 ms ± 883 µs per loop (mean ± std. dev. of 7 runs, 10 loops each)\n"
     ]
    }
   ],
   "source": [
    "%%timeit\n",
    "import math\n",
    "import timeit\n",
    "\n",
    "fermat_time = fermats_approach(600851475143)"
   ]
  },
  {
   "cell_type": "code",
   "execution_count": 10,
   "metadata": {},
   "outputs": [
    {
     "ename": "TypeError",
     "evalue": "int() argument must be a string, a bytes-like object or a number, not 'list'",
     "output_type": "error",
     "traceback": [
      "\u001b[1;31m---------------------------------------------------------------------------\u001b[0m",
      "\u001b[1;31mTypeError\u001b[0m                                 Traceback (most recent call last)",
      "\u001b[1;32m<ipython-input-10-53e5e7ab7cbf>\u001b[0m in \u001b[0;36m<module>\u001b[1;34m\u001b[0m\n\u001b[0;32m     21\u001b[0m     \u001b[1;32mreturn\u001b[0m \u001b[0mmax\u001b[0m\u001b[1;33m(\u001b[0m\u001b[0mint\u001b[0m\u001b[1;33m(\u001b[0m\u001b[0mtmp\u001b[0m\u001b[1;33m)\u001b[0m\u001b[1;33m)\u001b[0m\u001b[1;33m\u001b[0m\u001b[1;33m\u001b[0m\u001b[0m\n\u001b[0;32m     22\u001b[0m \u001b[1;33m\u001b[0m\u001b[0m\n\u001b[1;32m---> 23\u001b[1;33m \u001b[0msimple_func\u001b[0m\u001b[1;33m(\u001b[0m\u001b[1;36m13195\u001b[0m\u001b[1;33m)\u001b[0m\u001b[1;33m\u001b[0m\u001b[1;33m\u001b[0m\u001b[0m\n\u001b[0m",
      "\u001b[1;32m<ipython-input-10-53e5e7ab7cbf>\u001b[0m in \u001b[0;36msimple_func\u001b[1;34m(n)\u001b[0m\n\u001b[0;32m     19\u001b[0m             \u001b[0mtmp\u001b[0m\u001b[1;33m.\u001b[0m\u001b[0mappend\u001b[0m\u001b[1;33m(\u001b[0m\u001b[0mn\u001b[0m\u001b[1;33m)\u001b[0m  \u001b[1;31m# append the last value of n to stop\u001b[0m\u001b[1;33m\u001b[0m\u001b[1;33m\u001b[0m\u001b[0m\n\u001b[0;32m     20\u001b[0m             \u001b[1;32mbreak\u001b[0m\u001b[1;33m\u001b[0m\u001b[1;33m\u001b[0m\u001b[0m\n\u001b[1;32m---> 21\u001b[1;33m     \u001b[1;32mreturn\u001b[0m \u001b[0mmax\u001b[0m\u001b[1;33m(\u001b[0m\u001b[0mint\u001b[0m\u001b[1;33m(\u001b[0m\u001b[0mtmp\u001b[0m\u001b[1;33m)\u001b[0m\u001b[1;33m)\u001b[0m\u001b[1;33m\u001b[0m\u001b[1;33m\u001b[0m\u001b[0m\n\u001b[0m\u001b[0;32m     22\u001b[0m \u001b[1;33m\u001b[0m\u001b[0m\n\u001b[0;32m     23\u001b[0m \u001b[0msimple_func\u001b[0m\u001b[1;33m(\u001b[0m\u001b[1;36m13195\u001b[0m\u001b[1;33m)\u001b[0m\u001b[1;33m\u001b[0m\u001b[1;33m\u001b[0m\u001b[0m\n",
      "\u001b[1;31mTypeError\u001b[0m: int() argument must be a string, a bytes-like object or a number, not 'list'"
     ]
    }
   ],
   "source": [
    "import math\n",
    "\n",
    "def simple_func(n):\n",
    "    \"\"\"\n",
    "    Just go up to the square root of n\n",
    "    The above one makes sense now from SO\n",
    "    \"\"\"\n",
    "    a = int(math.sqrt(n))\n",
    "    d=2\n",
    "    tmp=[]\n",
    "    while n>1:\n",
    "        while n%d==0:\n",
    "            tmp.append(d)\n",
    "            n = n/d\n",
    "        d+=1\n",
    "        # if the remainder is a perfect square \n",
    "        # greater than the value of n b/c inverse relationship\n",
    "        if d**2 > n:\n",
    "            tmp.append(int(n))  # append the last value of n to stop\n",
    "            break\n",
    "    return max(t)\n",
    "\n",
    "simple_func(13195)"
   ]
  },
  {
   "cell_type": "markdown",
   "metadata": {},
   "source": [
    "#### Let's implement Quadratic Sieve \n",
    "\n",
    "My problem...\n",
    "\n",
    "           1. Choose a smoothness bound B. The number π(B), denoting the number of prime numbers less than B,\n",
    "           will control both the length of the vectors and the number of vectors needed.\n",
    "\n",
    "\n",
    "How to choose a smoothness bound?? At first glance this seems arbitrary, but there seems to be some information on doing it effectively here (Thanks <a href='https://math.dartmouth.edu/~carlp/PDF/qs08.pdf'>Dartmouth</a>)\n",
    "\n",
    "Okay...let's go easier and come back. \n",
    "\n",
    "<img src=\"https://www.reactiongifs.com/r/cf-dafuq.gif\"><img>"
   ]
  },
  {
   "cell_type": "markdown",
   "metadata": {},
   "source": [
    " ### Okay let's go simpler. \n",
    " \n",
    "Can I just get all the prime numbers up to N, grab each value say p, and then run from big to small to see if N is divisible by p? \n",
    "\n",
    "If so, I'm a winner. \n",
    "\n",
    "Also if I just go up to sqrt(N) I will get all primes. \n",
    "\n",
    "Because, \n",
    "\n",
    "        Assume a x b = N\n",
    "        if a==b then both are equal to sqrt(N). \n",
    "        if a!=b\n",
    "            Then one must be bigger than the other, because they share\n",
    "            an inverse relationship: a = N/b\n",
    "        So start from sqrt(N) and increment up to N? \n",
    "            "
   ]
  },
  {
   "cell_type": "markdown",
   "metadata": {},
   "source": [
    "# Sieve of Eratothenes\n",
    "\n",
    "<img src=\"https://upload.wikimedia.org/wikipedia/commons/e/eb/Sieve_of_Eratosthenes.gif\"></a>\n",
    "\n",
    "\n",
    "Basically find all prime values of n from 2 up to sqrt(n) \n",
    "\n",
    "If the value is unmarked (we know it's a prime number), if it's marked we know it's a composite number. \n",
    "\n",
    "As we cross out values that are composite, we also cross out those that are multiples of those values. "
   ]
  },
  {
   "cell_type": "code",
   "execution_count": 207,
   "metadata": {},
   "outputs": [],
   "source": [
    "import math\n",
    "\n",
    "# I read way too deep into this problem. \n",
    "def erato_sieve(N):\n",
    "    \"\"\"grab all prime numbers up to N using the sieve of eratothenes\"\"\"\n",
    "    nums = [1 for i in range(0, N)]\n",
    "    nums[0] = nums[1] = 0  # set 1 and 2 to 0\n",
    "    for i in range(2, int(math.sqrt(N))):\n",
    "        j = 2\n",
    "        print(i)\n",
    "        for j in range(2, N):\n",
    "            print(i*j)\n",
    "            if i*j >= N:\n",
    "                break\n",
    "            nums[i*j]=0\n",
    "    nums = [idx for idx,val in enumerate(nums) if val]\n",
    "    return nums"
   ]
  },
  {
   "cell_type": "markdown",
   "metadata": {},
   "source": [
    "What a rabbit hole. To be continued. "
   ]
  },
  {
   "cell_type": "code",
   "execution_count": 210,
   "metadata": {},
   "outputs": [
    {
     "ename": "KeyboardInterrupt",
     "evalue": "",
     "output_type": "error",
     "traceback": [
      "\u001b[1;31m---------------------------------------------------------------------------\u001b[0m",
      "\u001b[1;31mKeyboardInterrupt\u001b[0m                         Traceback (most recent call last)",
      "\u001b[1;32m~\\.conda\\envs\\py38\\lib\\site-packages\\IPython\\core\\magics\\execution.py\u001b[0m in \u001b[0;36mtimeit\u001b[1;34m(self, number)\u001b[0m\n\u001b[0;32m    168\u001b[0m         \u001b[1;32mtry\u001b[0m\u001b[1;33m:\u001b[0m\u001b[1;33m\u001b[0m\u001b[1;33m\u001b[0m\u001b[0m\n\u001b[1;32m--> 169\u001b[1;33m             \u001b[0mtiming\u001b[0m \u001b[1;33m=\u001b[0m \u001b[0mself\u001b[0m\u001b[1;33m.\u001b[0m\u001b[0minner\u001b[0m\u001b[1;33m(\u001b[0m\u001b[0mit\u001b[0m\u001b[1;33m,\u001b[0m \u001b[0mself\u001b[0m\u001b[1;33m.\u001b[0m\u001b[0mtimer\u001b[0m\u001b[1;33m)\u001b[0m\u001b[1;33m\u001b[0m\u001b[1;33m\u001b[0m\u001b[0m\n\u001b[0m\u001b[0;32m    170\u001b[0m         \u001b[1;32mfinally\u001b[0m\u001b[1;33m:\u001b[0m\u001b[1;33m\u001b[0m\u001b[1;33m\u001b[0m\u001b[0m\n",
      "\u001b[1;32m<magic-timeit>\u001b[0m in \u001b[0;36minner\u001b[1;34m(_it, _timer)\u001b[0m\n",
      "\u001b[1;32m<ipython-input-207-79856d01622e>\u001b[0m in \u001b[0;36merato_sieve\u001b[1;34m(N)\u001b[0m\n\u001b[0;32m      6\u001b[0m     \u001b[1;34m\"\"\"grab all prime numbers up to N using the sieve of eratothenes\"\"\"\u001b[0m\u001b[1;33m\u001b[0m\u001b[1;33m\u001b[0m\u001b[0m\n\u001b[1;32m----> 7\u001b[1;33m     \u001b[0mnums\u001b[0m \u001b[1;33m=\u001b[0m \u001b[1;33m[\u001b[0m\u001b[1;36m1\u001b[0m \u001b[1;32mfor\u001b[0m \u001b[0mi\u001b[0m \u001b[1;32min\u001b[0m \u001b[0mrange\u001b[0m\u001b[1;33m(\u001b[0m\u001b[1;36m0\u001b[0m\u001b[1;33m,\u001b[0m \u001b[0mN\u001b[0m\u001b[1;33m)\u001b[0m\u001b[1;33m]\u001b[0m\u001b[1;33m\u001b[0m\u001b[1;33m\u001b[0m\u001b[0m\n\u001b[0m\u001b[0;32m      8\u001b[0m     \u001b[0mnums\u001b[0m\u001b[1;33m[\u001b[0m\u001b[1;36m0\u001b[0m\u001b[1;33m]\u001b[0m \u001b[1;33m=\u001b[0m \u001b[0mnums\u001b[0m\u001b[1;33m[\u001b[0m\u001b[1;36m1\u001b[0m\u001b[1;33m]\u001b[0m \u001b[1;33m=\u001b[0m \u001b[1;36m0\u001b[0m  \u001b[1;31m# set 1 and 2 to 0\u001b[0m\u001b[1;33m\u001b[0m\u001b[1;33m\u001b[0m\u001b[0m\n",
      "\u001b[1;32m<ipython-input-207-79856d01622e>\u001b[0m in \u001b[0;36m<listcomp>\u001b[1;34m(.0)\u001b[0m\n\u001b[0;32m      6\u001b[0m     \u001b[1;34m\"\"\"grab all prime numbers up to N using the sieve of eratothenes\"\"\"\u001b[0m\u001b[1;33m\u001b[0m\u001b[1;33m\u001b[0m\u001b[0m\n\u001b[1;32m----> 7\u001b[1;33m     \u001b[0mnums\u001b[0m \u001b[1;33m=\u001b[0m \u001b[1;33m[\u001b[0m\u001b[1;36m1\u001b[0m \u001b[1;32mfor\u001b[0m \u001b[0mi\u001b[0m \u001b[1;32min\u001b[0m \u001b[0mrange\u001b[0m\u001b[1;33m(\u001b[0m\u001b[1;36m0\u001b[0m\u001b[1;33m,\u001b[0m \u001b[0mN\u001b[0m\u001b[1;33m)\u001b[0m\u001b[1;33m]\u001b[0m\u001b[1;33m\u001b[0m\u001b[1;33m\u001b[0m\u001b[0m\n\u001b[0m\u001b[0;32m      8\u001b[0m     \u001b[0mnums\u001b[0m\u001b[1;33m[\u001b[0m\u001b[1;36m0\u001b[0m\u001b[1;33m]\u001b[0m \u001b[1;33m=\u001b[0m \u001b[0mnums\u001b[0m\u001b[1;33m[\u001b[0m\u001b[1;36m1\u001b[0m\u001b[1;33m]\u001b[0m \u001b[1;33m=\u001b[0m \u001b[1;36m0\u001b[0m  \u001b[1;31m# set 1 and 2 to 0\u001b[0m\u001b[1;33m\u001b[0m\u001b[1;33m\u001b[0m\u001b[0m\n",
      "\u001b[1;31mKeyboardInterrupt\u001b[0m: ",
      "\nDuring handling of the above exception, another exception occurred:\n",
      "\u001b[1;31mKeyboardInterrupt\u001b[0m                         Traceback (most recent call last)",
      "\u001b[1;32m<ipython-input-210-6ab6d595ab00>\u001b[0m in \u001b[0;36m<module>\u001b[1;34m\u001b[0m\n\u001b[1;32m----> 1\u001b[1;33m \u001b[0mget_ipython\u001b[0m\u001b[1;33m(\u001b[0m\u001b[1;33m)\u001b[0m\u001b[1;33m.\u001b[0m\u001b[0mrun_cell_magic\u001b[0m\u001b[1;33m(\u001b[0m\u001b[1;34m'timeit'\u001b[0m\u001b[1;33m,\u001b[0m \u001b[1;34m''\u001b[0m\u001b[1;33m,\u001b[0m \u001b[1;34m'import math\\nimport timeit\\n\\nprimes = erato_sieve(600851475143)\\n'\u001b[0m\u001b[1;33m)\u001b[0m\u001b[1;33m\u001b[0m\u001b[1;33m\u001b[0m\u001b[0m\n\u001b[0m",
      "\u001b[1;32m~\\.conda\\envs\\py38\\lib\\site-packages\\IPython\\core\\interactiveshell.py\u001b[0m in \u001b[0;36mrun_cell_magic\u001b[1;34m(self, magic_name, line, cell)\u001b[0m\n\u001b[0;32m   2360\u001b[0m             \u001b[1;32mwith\u001b[0m \u001b[0mself\u001b[0m\u001b[1;33m.\u001b[0m\u001b[0mbuiltin_trap\u001b[0m\u001b[1;33m:\u001b[0m\u001b[1;33m\u001b[0m\u001b[1;33m\u001b[0m\u001b[0m\n\u001b[0;32m   2361\u001b[0m                 \u001b[0margs\u001b[0m \u001b[1;33m=\u001b[0m \u001b[1;33m(\u001b[0m\u001b[0mmagic_arg_s\u001b[0m\u001b[1;33m,\u001b[0m \u001b[0mcell\u001b[0m\u001b[1;33m)\u001b[0m\u001b[1;33m\u001b[0m\u001b[1;33m\u001b[0m\u001b[0m\n\u001b[1;32m-> 2362\u001b[1;33m                 \u001b[0mresult\u001b[0m \u001b[1;33m=\u001b[0m \u001b[0mfn\u001b[0m\u001b[1;33m(\u001b[0m\u001b[1;33m*\u001b[0m\u001b[0margs\u001b[0m\u001b[1;33m,\u001b[0m \u001b[1;33m**\u001b[0m\u001b[0mkwargs\u001b[0m\u001b[1;33m)\u001b[0m\u001b[1;33m\u001b[0m\u001b[1;33m\u001b[0m\u001b[0m\n\u001b[0m\u001b[0;32m   2363\u001b[0m             \u001b[1;32mreturn\u001b[0m \u001b[0mresult\u001b[0m\u001b[1;33m\u001b[0m\u001b[1;33m\u001b[0m\u001b[0m\n\u001b[0;32m   2364\u001b[0m \u001b[1;33m\u001b[0m\u001b[0m\n",
      "\u001b[1;32m<C:\\Users\\codebrotherone\\.conda\\envs\\py38\\lib\\site-packages\\decorator.py:decorator-gen-61>\u001b[0m in \u001b[0;36mtimeit\u001b[1;34m(self, line, cell, local_ns)\u001b[0m\n",
      "\u001b[1;32m~\\.conda\\envs\\py38\\lib\\site-packages\\IPython\\core\\magic.py\u001b[0m in \u001b[0;36m<lambda>\u001b[1;34m(f, *a, **k)\u001b[0m\n\u001b[0;32m    185\u001b[0m     \u001b[1;31m# but it's overkill for just that one bit of state.\u001b[0m\u001b[1;33m\u001b[0m\u001b[1;33m\u001b[0m\u001b[1;33m\u001b[0m\u001b[0m\n\u001b[0;32m    186\u001b[0m     \u001b[1;32mdef\u001b[0m \u001b[0mmagic_deco\u001b[0m\u001b[1;33m(\u001b[0m\u001b[0marg\u001b[0m\u001b[1;33m)\u001b[0m\u001b[1;33m:\u001b[0m\u001b[1;33m\u001b[0m\u001b[1;33m\u001b[0m\u001b[0m\n\u001b[1;32m--> 187\u001b[1;33m         \u001b[0mcall\u001b[0m \u001b[1;33m=\u001b[0m \u001b[1;32mlambda\u001b[0m \u001b[0mf\u001b[0m\u001b[1;33m,\u001b[0m \u001b[1;33m*\u001b[0m\u001b[0ma\u001b[0m\u001b[1;33m,\u001b[0m \u001b[1;33m**\u001b[0m\u001b[0mk\u001b[0m\u001b[1;33m:\u001b[0m \u001b[0mf\u001b[0m\u001b[1;33m(\u001b[0m\u001b[1;33m*\u001b[0m\u001b[0ma\u001b[0m\u001b[1;33m,\u001b[0m \u001b[1;33m**\u001b[0m\u001b[0mk\u001b[0m\u001b[1;33m)\u001b[0m\u001b[1;33m\u001b[0m\u001b[1;33m\u001b[0m\u001b[0m\n\u001b[0m\u001b[0;32m    188\u001b[0m \u001b[1;33m\u001b[0m\u001b[0m\n\u001b[0;32m    189\u001b[0m         \u001b[1;32mif\u001b[0m \u001b[0mcallable\u001b[0m\u001b[1;33m(\u001b[0m\u001b[0marg\u001b[0m\u001b[1;33m)\u001b[0m\u001b[1;33m:\u001b[0m\u001b[1;33m\u001b[0m\u001b[1;33m\u001b[0m\u001b[0m\n",
      "\u001b[1;32m~\\.conda\\envs\\py38\\lib\\site-packages\\IPython\\core\\magics\\execution.py\u001b[0m in \u001b[0;36mtimeit\u001b[1;34m(self, line, cell, local_ns)\u001b[0m\n\u001b[0;32m   1158\u001b[0m             \u001b[1;32mfor\u001b[0m \u001b[0mindex\u001b[0m \u001b[1;32min\u001b[0m \u001b[0mrange\u001b[0m\u001b[1;33m(\u001b[0m\u001b[1;36m0\u001b[0m\u001b[1;33m,\u001b[0m \u001b[1;36m10\u001b[0m\u001b[1;33m)\u001b[0m\u001b[1;33m:\u001b[0m\u001b[1;33m\u001b[0m\u001b[1;33m\u001b[0m\u001b[0m\n\u001b[0;32m   1159\u001b[0m                 \u001b[0mnumber\u001b[0m \u001b[1;33m=\u001b[0m \u001b[1;36m10\u001b[0m \u001b[1;33m**\u001b[0m \u001b[0mindex\u001b[0m\u001b[1;33m\u001b[0m\u001b[1;33m\u001b[0m\u001b[0m\n\u001b[1;32m-> 1160\u001b[1;33m                 \u001b[0mtime_number\u001b[0m \u001b[1;33m=\u001b[0m \u001b[0mtimer\u001b[0m\u001b[1;33m.\u001b[0m\u001b[0mtimeit\u001b[0m\u001b[1;33m(\u001b[0m\u001b[0mnumber\u001b[0m\u001b[1;33m)\u001b[0m\u001b[1;33m\u001b[0m\u001b[1;33m\u001b[0m\u001b[0m\n\u001b[0m\u001b[0;32m   1161\u001b[0m                 \u001b[1;32mif\u001b[0m \u001b[0mtime_number\u001b[0m \u001b[1;33m>=\u001b[0m \u001b[1;36m0.2\u001b[0m\u001b[1;33m:\u001b[0m\u001b[1;33m\u001b[0m\u001b[1;33m\u001b[0m\u001b[0m\n\u001b[0;32m   1162\u001b[0m                     \u001b[1;32mbreak\u001b[0m\u001b[1;33m\u001b[0m\u001b[1;33m\u001b[0m\u001b[0m\n",
      "\u001b[1;32m~\\.conda\\envs\\py38\\lib\\site-packages\\IPython\\core\\magics\\execution.py\u001b[0m in \u001b[0;36mtimeit\u001b[1;34m(self, number)\u001b[0m\n\u001b[0;32m    170\u001b[0m         \u001b[1;32mfinally\u001b[0m\u001b[1;33m:\u001b[0m\u001b[1;33m\u001b[0m\u001b[1;33m\u001b[0m\u001b[0m\n\u001b[0;32m    171\u001b[0m             \u001b[1;32mif\u001b[0m \u001b[0mgcold\u001b[0m\u001b[1;33m:\u001b[0m\u001b[1;33m\u001b[0m\u001b[1;33m\u001b[0m\u001b[0m\n\u001b[1;32m--> 172\u001b[1;33m                 \u001b[0mgc\u001b[0m\u001b[1;33m.\u001b[0m\u001b[0menable\u001b[0m\u001b[1;33m(\u001b[0m\u001b[1;33m)\u001b[0m\u001b[1;33m\u001b[0m\u001b[1;33m\u001b[0m\u001b[0m\n\u001b[0m\u001b[0;32m    173\u001b[0m         \u001b[1;32mreturn\u001b[0m \u001b[0mtiming\u001b[0m\u001b[1;33m\u001b[0m\u001b[1;33m\u001b[0m\u001b[0m\n\u001b[0;32m    174\u001b[0m \u001b[1;33m\u001b[0m\u001b[0m\n",
      "\u001b[1;31mKeyboardInterrupt\u001b[0m: "
     ]
    }
   ],
   "source": [
    "%%timeit\n",
    "import math\n",
    "import timeit\n",
    "\n",
    "primes = erato_sieve(600851475143)\n"
   ]
  },
  {
   "cell_type": "code",
   "execution_count": null,
   "metadata": {},
   "outputs": [],
   "source": []
  }
 ],
 "metadata": {
  "kernelspec": {
   "display_name": "py38",
   "language": "python",
   "name": "py38"
  },
  "language_info": {
   "codemirror_mode": {
    "name": "ipython",
    "version": 3
   },
   "file_extension": ".py",
   "mimetype": "text/x-python",
   "name": "python",
   "nbconvert_exporter": "python",
   "pygments_lexer": "ipython3",
   "version": "3.8.0"
  }
 },
 "nbformat": 4,
 "nbformat_minor": 2
}
