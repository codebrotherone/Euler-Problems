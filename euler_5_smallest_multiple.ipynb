{
 "cells": [
  {
   "attachments": {},
   "cell_type": "markdown",
   "metadata": {},
   "source": [
    "<img src=\"images/problem_5.png\"></img>"
   ]
  },
  {
   "cell_type": "code",
   "execution_count": 5,
   "metadata": {},
   "outputs": [
    {
     "data": {
      "text/plain": [
       "232792560"
      ]
     },
     "execution_count": 5,
     "metadata": {},
     "output_type": "execute_result"
    }
   ],
   "source": [
    "\n",
    "def find_first_multiple(max_num=20):\n",
    "    \"\"\"Brute force baby! nums will contain other values in 1-20 range by default\"\"\"\n",
    "    nums = [11, 13, 14, 16, 17, 18, 19, 20]\n",
    "    looking = True\n",
    "    i=20\n",
    "    while looking:\n",
    "        if all(i % n == 0 for n in nums):\n",
    "            looking=False\n",
    "            break\n",
    "        i+=20\n",
    "    return i\n",
    "\n",
    "find_first_multiple()\n",
    "    "
   ]
  },
  {
   "cell_type": "code",
   "execution_count": null,
   "metadata": {},
   "outputs": [],
   "source": []
  }
 ],
 "metadata": {
  "kernelspec": {
   "display_name": "py38",
   "language": "python",
   "name": "py38"
  },
  "language_info": {
   "codemirror_mode": {
    "name": "ipython",
    "version": 3
   },
   "file_extension": ".py",
   "mimetype": "text/x-python",
   "name": "python",
   "nbconvert_exporter": "python",
   "pygments_lexer": "ipython3",
   "version": "3.8.0"
  }
 },
 "nbformat": 4,
 "nbformat_minor": 2
}
