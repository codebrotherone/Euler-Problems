{
 "cells": [
  {
   "cell_type": "markdown",
   "metadata": {},
   "source": [
    "# Problem 1 Euler\n",
    "\n",
    "I am embarassed to say how long this took me to figure out. The trick is to take into account that multiples of 15 get counted twice\n",
    "\n",
    "<img src=\"https://media0.giphy.com/media/UqvyxmNFmoEocT0R9g/giphy.gif\"></img>"
   ]
  },
  {
   "cell_type": "code",
   "execution_count": 7,
   "metadata": {},
   "outputs": [
    {
     "name": "stdout",
     "output_type": "stream",
     "text": [
      "sum_ is 233168\n"
     ]
    }
   ],
   "source": [
    "\"\"\"\n",
    "https://projecteuler.net/problem=1\n",
    "\n",
    "\"\"\"\n",
    "def multiples_3_5(num=1000):\n",
    "    \"\"\"Dumb approach because I'm incrementing by 1, and the continue\n",
    "    statement allows me to skip in the event I hit 15 because I only want\n",
    "    the sums of 3-multiples OR 5-multiples. A cleaner approach is found below\n",
    "    \"\"\"\n",
    "    sum_ = 0\n",
    "    for val in range(1, num):\n",
    "        # div by 3 rule\n",
    "        if val % 3 == 0: \n",
    "            sum_+=val\n",
    "            continue  # continue skips to next loop iteration\n",
    "        # div by 5 rule\n",
    "        if val % 5 == 0:\n",
    "            sum_+=val\n",
    "            continue\n",
    "    return sum_\n",
    "\n",
    "print(f'sum_ is {multiples_3_5(tot)}')"
   ]
  },
  {
   "cell_type": "markdown",
   "metadata": {},
   "source": [
    "# Better approach\n",
    "\n",
    "<img src=\"https://i.imgur.com/TlycGd5.jpg\"></img>\n",
    "\n",
    "I only need to increment by multiples of each number to generate what I need (skipping numbers I don't need). \n",
    "\n",
    "This is more efficient and leverages the same trick. \n",
    "\n",
    "If every multiple of 15 is a multiple of 3 and 5 then I just need to remove those sums to avoid double counts. \n"
   ]
  },
  {
   "cell_type": "code",
   "execution_count": 10,
   "metadata": {},
   "outputs": [
    {
     "name": "stdout",
     "output_type": "stream",
     "text": [
      "sum_ is 233168\n"
     ]
    }
   ],
   "source": [
    "# 1 liner using sum, list, and range funcs in Python. \n",
    "sum_ = sum(list(range(0, 1000, 3))) + sum(list(range(0, 1000, 5))) - sum(list(range(0, 1000, 15)))\n",
    "\n",
    "print(f'sum_ is {sum_}')"
   ]
  },
  {
   "cell_type": "code",
   "execution_count": null,
   "metadata": {},
   "outputs": [],
   "source": []
  }
 ],
 "metadata": {
  "kernelspec": {
   "display_name": "py38",
   "language": "python",
   "name": "py38"
  },
  "language_info": {
   "codemirror_mode": {
    "name": "ipython",
    "version": 3
   },
   "file_extension": ".py",
   "mimetype": "text/x-python",
   "name": "python",
   "nbconvert_exporter": "python",
   "pygments_lexer": "ipython3",
   "version": "3.8.0"
  }
 },
 "nbformat": 4,
 "nbformat_minor": 4
}
