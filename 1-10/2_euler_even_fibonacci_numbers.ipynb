{
 "cells": [
  {
   "cell_type": "markdown",
   "metadata": {},
   "source": [
    "# Even Fibonacci Numbers\n",
    "\n",
    "Fibonacci Spiral\n",
    "<img src=\"https://upload.wikimedia.org/wikipedia/commons/8/8d/Nautilus_of_Fibonacci.gif\"> </img>\n",
    "\n",
    "- Python has a cool way to do multi assignment\n",
    "- Values are calculated right side first, before traditional variable packing (tuple unpacking)"
   ]
  },
  {
   "cell_type": "code",
   "execution_count": 15,
   "metadata": {},
   "outputs": [
    {
     "name": "stdout",
     "output_type": "stream",
     "text": [
      "4613732\n"
     ]
    }
   ],
   "source": [
    "\n",
    "def fibo(num):\n",
    "    \"\"\"Return even fib nums up to a given num\"\"\"\n",
    "    # prime fib sequence\n",
    "    x=1\n",
    "    y=1\n",
    "    sum_=0\n",
    "    # find even fibonacci numbers up to 4 million\n",
    "    while(y<num):\n",
    "        if y%2==0:\n",
    "            sum_+=y\n",
    "        # we need to do this in mult. assgnment\n",
    "        x,y=y,x+y\n",
    "    return sum_\n",
    "\n",
    "\n",
    "print(fibo(4000000))"
   ]
  },
  {
   "cell_type": "code",
   "execution_count": null,
   "metadata": {},
   "outputs": [],
   "source": []
  }
 ],
 "metadata": {
  "kernelspec": {
   "display_name": "Python 3",
   "language": "python",
   "name": "python3"
  },
  "language_info": {
   "codemirror_mode": {
    "name": "ipython",
    "version": 3
   },
   "file_extension": ".py",
   "mimetype": "text/x-python",
   "name": "python",
   "nbconvert_exporter": "python",
   "pygments_lexer": "ipython3",
   "version": "3.8.0"
  }
 },
 "nbformat": 4,
 "nbformat_minor": 2
}
