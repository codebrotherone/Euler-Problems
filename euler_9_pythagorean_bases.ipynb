{
 "cells": [
  {
   "cell_type": "markdown",
   "metadata": {},
   "source": [
    "<img src=\"images/problem_9.png\"></img>"
   ]
  },
  {
   "cell_type": "code",
   "execution_count": 14,
   "metadata": {},
   "outputs": [],
   "source": [
    "def pythag_triplet(total):\n",
    "    \"\"\"helper func to get values a,b, and c given \n",
    "    pythag. formula when a+b+c = 1000\n",
    "    return the product a*b*c \n",
    "    \"\"\"\n",
    "    # well each a and b can never exceed c to satisfy the formula\n",
    "    # a is smallest and it has a good and we can do log to remove exponent \n",
    "    # simplify\n",
    "    for a in range(3, total):\n",
    "        a_squared = a**2\n",
    "        for b in range(4, total):\n",
    "            b_squared = b**2\n",
    "            c = total-b-a\n",
    "            c_squared = c**2\n",
    "            if (a_squared+b_squared==c_squared):\n",
    "                return a*b*c\n",
    "        \n",
    "    "
   ]
  },
  {
   "cell_type": "code",
   "execution_count": 15,
   "metadata": {},
   "outputs": [],
   "source": [
    "val = pythag_triplet(1000)"
   ]
  },
  {
   "cell_type": "code",
   "execution_count": null,
   "metadata": {},
   "outputs": [],
   "source": []
  }
 ],
 "metadata": {
  "kernelspec": {
   "display_name": "py38",
   "language": "python",
   "name": "py38"
  },
  "language_info": {
   "codemirror_mode": {
    "name": "ipython",
    "version": 3
   },
   "file_extension": ".py",
   "mimetype": "text/x-python",
   "name": "python",
   "nbconvert_exporter": "python",
   "pygments_lexer": "ipython3",
   "version": "3.8.0"
  }
 },
 "nbformat": 4,
 "nbformat_minor": 4
}
